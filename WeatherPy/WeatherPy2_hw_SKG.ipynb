{
 "cells": [
  {
   "cell_type": "markdown",
   "id": "899c6b1d",
   "metadata": {},
   "source": [
    "## WeatherPy_SKG"
   ]
  },
  {
   "cell_type": "code",
   "execution_count": 2,
   "id": "252c91f8",
   "metadata": {},
   "outputs": [],
   "source": [
    "# Dependencies and Setup\n",
    "import matplotlib.pyplot as plt\n",
    "import pandas as pd\n",
    "import numpy as np\n",
    "import requests\n",
    "import time\n",
    "from scipy.stats import linregress\n",
    "from pprint import pprint\n",
    "\n",
    "# Import API key\n",
    "from api_keys import weather_api_key\n",
    "\n",
    "# Incorporated citipy to determine city based on latitude and longitude\n",
    "from citipy import citipy\n",
    "\n",
    "# Output File (CSV)\n",
    "output_data_file = \"output_data/my_cities.csv\"\n",
    "\n",
    "# Range of latitudes and longitudes\n",
    "lat_range = (-90, 90)\n",
    "lng_range = (-180, 180)"
   ]
  },
  {
   "cell_type": "markdown",
   "id": "b14739f8",
   "metadata": {},
   "source": [
    "## Generate Cities List"
   ]
  },
  {
   "cell_type": "code",
   "execution_count": 3,
   "id": "1efa8fe2",
   "metadata": {},
   "outputs": [
    {
     "data": {
      "text/plain": [
       "608"
      ]
     },
     "execution_count": 3,
     "metadata": {},
     "output_type": "execute_result"
    }
   ],
   "source": [
    "# List for holding lat_lngs and cities\n",
    "lat_lngs = []\n",
    "cities = []\n",
    "\n",
    "# Create a set of random lat and lng combinations\n",
    "lats = np.random.uniform(lat_range[0], lat_range[1], size=1500)\n",
    "lngs = np.random.uniform(lng_range[0], lng_range[1], size=1500)\n",
    "lat_lngs = zip(lats, lngs)\n",
    "\n",
    "# Identify nearest city for each lat, lng combination\n",
    "for lat_lng in lat_lngs:\n",
    "    city = citipy.nearest_city(lat_lng[0], lat_lng[1]).city_name\n",
    "    \n",
    "    # If the city is unique, then add it to a our cities list\n",
    "    if city not in cities:\n",
    "        cities.append(city)\n",
    "\n",
    "# Print the city count to confirm sufficient count\n",
    "len(cities)"
   ]
  },
  {
   "cell_type": "code",
   "execution_count": 4,
   "id": "3f2d09ab",
   "metadata": {},
   "outputs": [
    {
     "name": "stdout",
     "output_type": "stream",
     "text": [
      "['ushuaia', 'tulle', 'port blair', 'iqaluit', 'caravelas', 'kaabong', 'bluff', 'mayumba', 'pevek', 'rikitea']\n"
     ]
    }
   ],
   "source": [
    "print(cities[:10])"
   ]
  },
  {
   "cell_type": "code",
   "execution_count": 5,
   "id": "150595eb",
   "metadata": {},
   "outputs": [
    {
     "name": "stdout",
     "output_type": "stream",
     "text": [
      "0, ushuaia\n",
      "1, tulle\n",
      "2, port blair\n",
      "3, iqaluit\n",
      "4, caravelas\n",
      "5, kaabong\n",
      "6, bluff\n",
      "7, mayumba\n",
      "8, pevek\n",
      "9, rikitea\n"
     ]
    }
   ],
   "source": [
    "# to print through our list with a numbered index\n",
    "for i, city in enumerate(cities[:10]):\n",
    "    # Group cities in sets of 50\n",
    "#     if (i % 50 == 0 and i >= 50):\n",
    "#         set_count += 1\n",
    "#         record_count = 0\n",
    "    \n",
    "        print(f'{i}, {city}')"
   ]
  },
  {
   "cell_type": "code",
   "execution_count": 6,
   "id": "1cd998a1",
   "metadata": {},
   "outputs": [
    {
     "name": "stdout",
     "output_type": "stream",
     "text": [
      "http://api.openweathermap.org/data/2.5/weather?units=Imperial&APPID=c052c8f986aa8e02b478b48d49f29a68\n"
     ]
    }
   ],
   "source": [
    "# Save config information\n",
    "url = \"http://api.openweathermap.org/data/2.5/weather?units=Imperial&APPID=\" + weather_api_key\n",
    "print(url)"
   ]
  },
  {
   "cell_type": "code",
   "execution_count": 7,
   "id": "ed890606",
   "metadata": {},
   "outputs": [
    {
     "name": "stdout",
     "output_type": "stream",
     "text": [
      "Ushuaia\n"
     ]
    }
   ],
   "source": [
    "query_url = url + \"&q=\" + cities[0]\n",
    "response = requests.get(query_url).json()\n",
    "print(response[\"name\"])"
   ]
  },
  {
   "cell_type": "markdown",
   "id": "a1b6c81c",
   "metadata": {},
   "source": [
    "### Perform API Calls\n",
    "* Perform a weather check on each city using a series of successive API calls.\n",
    "* Include a print log of each city as it'sbeing processed (with the city number and city name).\n"
   ]
  },
  {
   "cell_type": "code",
   "execution_count": 8,
   "id": "817eb6dd",
   "metadata": {},
   "outputs": [
    {
     "name": "stdout",
     "output_type": "stream",
     "text": [
      "Processing Record 1 of Set 1 | ushuaia\n",
      "Processing Record 2 of Set 1 | tulle\n",
      "Processing Record 3 of Set 1 | port blair\n",
      "Processing Record 4 of Set 1 | iqaluit\n",
      "Processing Record 5 of Set 1 | caravelas\n",
      "Processing Record 6 of Set 1 | kaabong\n",
      "Processing Record 7 of Set 1 | bluff\n",
      "Processing Record 8 of Set 1 | mayumba\n",
      "Processing Record 9 of Set 1 | pevek\n",
      "Processing Record 10 of Set 1 | rikitea\n",
      "Processing Record 11 of Set 1 | mudgee\n",
      "Processing Record 12 of Set 1 | sabzevar\n",
      "Processing Record 13 of Set 1 | yaan\n",
      "Processing Record 14 of Set 1 | shingu\n",
      "Processing Record 15 of Set 1 | anderson\n",
      "Processing Record 16 of Set 1 | cap malheureux\n",
      "Processing Record 17 of Set 1 | tasiilaq\n",
      "Processing Record 18 of Set 1 | kaitangata\n",
      "Processing Record 19 of Set 1 | abbotsford\n",
      "Processing Record 20 of Set 1 | aswan\n",
      "Processing Record 21 of Set 1 | harer\n",
      "Processing Record 22 of Set 1 | cherskiy\n",
      "Processing Record 23 of Set 1 | mehamn\n",
      "Processing Record 24 of Set 1 | neustrelitz\n",
      "Processing Record 25 of Set 1 | grand river south east\n",
      "City not found. Skipping..\n",
      "Processing Record 26 of Set 1 | klaksvik\n",
      "Processing Record 27 of Set 1 | north vernon\n",
      "Processing Record 28 of Set 1 | tuktoyaktuk\n",
      "Processing Record 29 of Set 1 | bredasdorp\n",
      "Processing Record 30 of Set 1 | upernavik\n",
      "Processing Record 31 of Set 1 | eenhana\n",
      "Processing Record 32 of Set 1 | ponta do sol\n",
      "Processing Record 33 of Set 1 | beringovskiy\n",
      "Processing Record 34 of Set 1 | jamestown\n",
      "Processing Record 35 of Set 1 | grand gaube\n",
      "Processing Record 36 of Set 1 | naze\n",
      "Processing Record 37 of Set 1 | petrolina\n",
      "Processing Record 38 of Set 1 | punta arenas\n",
      "Processing Record 39 of Set 1 | busselton\n",
      "Processing Record 40 of Set 1 | bowen\n",
      "Processing Record 41 of Set 1 | havre-saint-pierre\n",
      "Processing Record 42 of Set 1 | ust-ordynskiy\n",
      "Processing Record 43 of Set 1 | hobart\n",
      "Processing Record 44 of Set 1 | rawson\n",
      "Processing Record 45 of Set 1 | mataura\n",
      "Processing Record 46 of Set 1 | bandarbeyla\n",
      "Processing Record 47 of Set 1 | khatanga\n",
      "Processing Record 48 of Set 1 | norman wells\n",
      "Processing Record 49 of Set 1 | arica\n",
      "Processing Record 50 of Set 1 | deputatskiy\n",
      "Processing Record 1 of Set 2 | anadyr\n",
      "Processing Record 2 of Set 2 | homer\n",
      "Processing Record 3 of Set 2 | provideniya\n",
      "Processing Record 4 of Set 2 | albany\n",
      "Processing Record 5 of Set 2 | vaini\n",
      "Processing Record 6 of Set 2 | hermanus\n",
      "Processing Record 7 of Set 2 | saint-philippe\n",
      "Processing Record 8 of Set 2 | manzhouli\n",
      "Processing Record 9 of Set 2 | ahipara\n",
      "Processing Record 10 of Set 2 | new norfolk\n",
      "Processing Record 11 of Set 2 | necochea\n",
      "Processing Record 12 of Set 2 | atasu\n",
      "Processing Record 13 of Set 2 | atikokan\n",
      "Processing Record 14 of Set 2 | hay river\n",
      "Processing Record 15 of Set 2 | lorengau\n",
      "Processing Record 16 of Set 2 | airai\n",
      "Processing Record 17 of Set 2 | port hardy\n",
      "Processing Record 18 of Set 2 | uzyn\n",
      "Processing Record 19 of Set 2 | cape town\n",
      "Processing Record 20 of Set 2 | amderma\n",
      "City not found. Skipping..\n",
      "Processing Record 21 of Set 2 | moron\n",
      "Processing Record 22 of Set 2 | mar del plata\n",
      "Processing Record 23 of Set 2 | bambous virieux\n",
      "Processing Record 24 of Set 2 | nouadhibou\n",
      "Processing Record 25 of Set 2 | kazachinskoye\n",
      "Processing Record 26 of Set 2 | kruisfontein\n",
      "Processing Record 27 of Set 2 | berlevag\n",
      "Processing Record 28 of Set 2 | sindor\n",
      "Processing Record 29 of Set 2 | victoria\n",
      "Processing Record 30 of Set 2 | maloshuyka\n",
      "City not found. Skipping..\n",
      "Processing Record 31 of Set 2 | buraydah\n",
      "Processing Record 32 of Set 2 | tura\n",
      "Processing Record 33 of Set 2 | manono\n",
      "Processing Record 34 of Set 2 | clyde river\n",
      "Processing Record 35 of Set 2 | illoqqortoormiut\n",
      "City not found. Skipping..\n",
      "Processing Record 36 of Set 2 | mahebourg\n",
      "Processing Record 37 of Set 2 | lahaina\n",
      "Processing Record 38 of Set 2 | lebu\n",
      "Processing Record 39 of Set 2 | bilma\n",
      "Processing Record 40 of Set 2 | ruatoria\n",
      "City not found. Skipping..\n",
      "Processing Record 41 of Set 2 | pacific grove\n",
      "Processing Record 42 of Set 2 | ayer itam\n",
      "City not found. Skipping..\n",
      "Processing Record 43 of Set 2 | kushiro\n",
      "Processing Record 44 of Set 2 | avarua\n",
      "Processing Record 45 of Set 2 | kapit\n",
      "Processing Record 46 of Set 2 | georgetown\n",
      "Processing Record 47 of Set 2 | krasnoselkup\n",
      "Processing Record 48 of Set 2 | ilulissat\n",
      "Processing Record 49 of Set 2 | ribeira grande\n",
      "Processing Record 50 of Set 2 | sao filipe\n",
      "Processing Record 1 of Set 3 | tsihombe\n",
      "City not found. Skipping..\n",
      "Processing Record 2 of Set 3 | mizdah\n",
      "Processing Record 3 of Set 3 | mayo\n",
      "Processing Record 4 of Set 3 | kapaa\n",
      "Processing Record 5 of Set 3 | laguna\n",
      "Processing Record 6 of Set 3 | boda\n",
      "Processing Record 7 of Set 3 | terme\n",
      "Processing Record 8 of Set 3 | parana\n",
      "Processing Record 9 of Set 3 | belmonte\n",
      "Processing Record 10 of Set 3 | leh\n",
      "Processing Record 11 of Set 3 | taolanaro\n",
      "City not found. Skipping..\n",
      "Processing Record 12 of Set 3 | bolungarvik\n",
      "City not found. Skipping..\n",
      "Processing Record 13 of Set 3 | bangkalan\n",
      "Processing Record 14 of Set 3 | samusu\n",
      "City not found. Skipping..\n",
      "Processing Record 15 of Set 3 | saskylakh\n",
      "Processing Record 16 of Set 3 | atuona\n",
      "Processing Record 17 of Set 3 | hurghada\n",
      "Processing Record 18 of Set 3 | weyburn\n",
      "Processing Record 19 of Set 3 | panalingaan\n",
      "Processing Record 20 of Set 3 | vila velha\n",
      "Processing Record 21 of Set 3 | lompoc\n",
      "Processing Record 22 of Set 3 | north platte\n",
      "Processing Record 23 of Set 3 | mount gambier\n",
      "Processing Record 24 of Set 3 | saldanha\n",
      "Processing Record 25 of Set 3 | chokurdakh\n",
      "Processing Record 26 of Set 3 | xushan\n",
      "Processing Record 27 of Set 3 | constitucion\n",
      "Processing Record 28 of Set 3 | venado tuerto\n",
      "Processing Record 29 of Set 3 | bathsheba\n",
      "Processing Record 30 of Set 3 | tessalit\n",
      "Processing Record 31 of Set 3 | byron bay\n",
      "Processing Record 32 of Set 3 | champerico\n",
      "Processing Record 33 of Set 3 | barrow\n",
      "Processing Record 34 of Set 3 | nizhneyansk\n",
      "City not found. Skipping..\n",
      "Processing Record 35 of Set 3 | monte alegre de sergipe\n",
      "Processing Record 36 of Set 3 | coahuayana\n",
      "Processing Record 37 of Set 3 | chuy\n",
      "Processing Record 38 of Set 3 | shimoda\n",
      "Processing Record 39 of Set 3 | mocuba\n",
      "Processing Record 40 of Set 3 | attawapiskat\n",
      "City not found. Skipping..\n",
      "Processing Record 41 of Set 3 | katsuura\n",
      "Processing Record 42 of Set 3 | east london\n",
      "Processing Record 43 of Set 3 | rawannawi\n",
      "City not found. Skipping..\n",
      "Processing Record 44 of Set 3 | puri\n",
      "Processing Record 45 of Set 3 | tacuati\n",
      "Processing Record 46 of Set 3 | bethel\n",
      "Processing Record 47 of Set 3 | yulara\n",
      "Processing Record 48 of Set 3 | malwan\n",
      "City not found. Skipping..\n",
      "Processing Record 49 of Set 3 | baoding\n",
      "Processing Record 50 of Set 3 | bengkulu\n",
      "Processing Record 1 of Set 4 | nantucket\n",
      "Processing Record 2 of Set 4 | rosetown\n",
      "Processing Record 3 of Set 4 | luderitz\n",
      "Processing Record 4 of Set 4 | hamilton\n",
      "Processing Record 5 of Set 4 | thompson\n",
      "Processing Record 6 of Set 4 | severo-kurilsk\n",
      "Processing Record 7 of Set 4 | norrtalje\n",
      "Processing Record 8 of Set 4 | bolu\n",
      "Processing Record 9 of Set 4 | vytegra\n",
      "Processing Record 10 of Set 4 | coquimbo\n",
      "Processing Record 11 of Set 4 | ust-koksa\n",
      "Processing Record 12 of Set 4 | khonuu\n",
      "City not found. Skipping..\n",
      "Processing Record 13 of Set 4 | arlit\n",
      "Processing Record 14 of Set 4 | barentsburg\n",
      "City not found. Skipping..\n",
      "Processing Record 15 of Set 4 | dikson\n",
      "Processing Record 16 of Set 4 | sioux lookout\n",
      "Processing Record 17 of Set 4 | waitati\n",
      "Processing Record 18 of Set 4 | cidreira\n",
      "Processing Record 19 of Set 4 | beyneu\n",
      "Processing Record 20 of Set 4 | ostrovnoy\n",
      "Processing Record 21 of Set 4 | tempoal\n",
      "City not found. Skipping..\n",
      "Processing Record 22 of Set 4 | killybegs\n",
      "Processing Record 23 of Set 4 | amga\n",
      "Processing Record 24 of Set 4 | yafran\n",
      "Processing Record 25 of Set 4 | sumbawa\n",
      "City not found. Skipping..\n",
      "Processing Record 26 of Set 4 | comodoro rivadavia\n",
      "Processing Record 27 of Set 4 | valparaiso\n",
      "Processing Record 28 of Set 4 | turukhansk\n",
      "Processing Record 29 of Set 4 | sinnamary\n",
      "Processing Record 30 of Set 4 | qaanaaq\n",
      "Processing Record 31 of Set 4 | longyearbyen\n",
      "Processing Record 32 of Set 4 | broken hill\n",
      "Processing Record 33 of Set 4 | puerto ayora\n",
      "Processing Record 34 of Set 4 | vardo\n",
      "Processing Record 35 of Set 4 | meulaboh\n",
      "Processing Record 36 of Set 4 | nikolskoye\n",
      "Processing Record 37 of Set 4 | warqla\n",
      "City not found. Skipping..\n",
      "Processing Record 38 of Set 4 | poronaysk\n"
     ]
    },
    {
     "name": "stdout",
     "output_type": "stream",
     "text": [
      "Processing Record 39 of Set 4 | carutapera\n",
      "Processing Record 40 of Set 4 | saint george\n",
      "Processing Record 41 of Set 4 | corsicana\n",
      "Processing Record 42 of Set 4 | kidal\n",
      "Processing Record 43 of Set 4 | kahului\n",
      "Processing Record 44 of Set 4 | yellowknife\n",
      "Processing Record 45 of Set 4 | batagay\n",
      "Processing Record 46 of Set 4 | galesong\n",
      "Processing Record 47 of Set 4 | bafq\n",
      "Processing Record 48 of Set 4 | yatou\n",
      "Processing Record 49 of Set 4 | umzimvubu\n",
      "City not found. Skipping..\n",
      "Processing Record 50 of Set 4 | weinan\n",
      "Processing Record 1 of Set 5 | sentyabrskiy\n",
      "City not found. Skipping..\n",
      "Processing Record 2 of Set 5 | yumen\n",
      "Processing Record 3 of Set 5 | codrington\n",
      "Processing Record 4 of Set 5 | innisfail\n",
      "Processing Record 5 of Set 5 | kieta\n",
      "Processing Record 6 of Set 5 | belaya gora\n",
      "Processing Record 7 of Set 5 | port alfred\n",
      "Processing Record 8 of Set 5 | hofn\n",
      "Processing Record 9 of Set 5 | milkovo\n",
      "Processing Record 10 of Set 5 | santa cruz\n",
      "Processing Record 11 of Set 5 | marawi\n",
      "Processing Record 12 of Set 5 | winneba\n",
      "Processing Record 13 of Set 5 | hinton\n",
      "Processing Record 14 of Set 5 | mende\n",
      "Processing Record 15 of Set 5 | fortuna\n",
      "Processing Record 16 of Set 5 | itoman\n",
      "Processing Record 17 of Set 5 | rio gallegos\n",
      "Processing Record 18 of Set 5 | port elizabeth\n",
      "Processing Record 19 of Set 5 | dawei\n",
      "Processing Record 20 of Set 5 | jizan\n",
      "Processing Record 21 of Set 5 | los llanos de aridane\n",
      "Processing Record 22 of Set 5 | ambodifototra\n",
      "City not found. Skipping..\n",
      "Processing Record 23 of Set 5 | bani\n",
      "Processing Record 24 of Set 5 | asau\n",
      "Processing Record 25 of Set 5 | daru\n",
      "Processing Record 26 of Set 5 | torbay\n",
      "Processing Record 27 of Set 5 | george\n",
      "Processing Record 28 of Set 5 | geraldton\n",
      "Processing Record 29 of Set 5 | harper\n",
      "Processing Record 30 of Set 5 | lumeje\n",
      "Processing Record 31 of Set 5 | bodden town\n",
      "Processing Record 32 of Set 5 | kaeo\n",
      "Processing Record 33 of Set 5 | ancud\n",
      "Processing Record 34 of Set 5 | tiksi\n",
      "Processing Record 35 of Set 5 | bukachacha\n",
      "Processing Record 36 of Set 5 | aybak\n",
      "City not found. Skipping..\n",
      "Processing Record 37 of Set 5 | pichayevo\n",
      "Processing Record 38 of Set 5 | balagtas\n",
      "Processing Record 39 of Set 5 | skjervoy\n",
      "Processing Record 40 of Set 5 | norden\n",
      "Processing Record 41 of Set 5 | broome\n",
      "Processing Record 42 of Set 5 | port lincoln\n",
      "Processing Record 43 of Set 5 | la ronge\n",
      "Processing Record 44 of Set 5 | gravelbourg\n",
      "Processing Record 45 of Set 5 | paz de ariporo\n",
      "City not found. Skipping..\n",
      "Processing Record 46 of Set 5 | qovlar\n",
      "Processing Record 47 of Set 5 | bryan\n",
      "Processing Record 48 of Set 5 | manokwari\n",
      "Processing Record 49 of Set 5 | butaritari\n",
      "Processing Record 50 of Set 5 | general roca\n",
      "Processing Record 1 of Set 6 | merauke\n",
      "Processing Record 2 of Set 6 | tabiauea\n",
      "City not found. Skipping..\n",
      "Processing Record 3 of Set 6 | arraial do cabo\n",
      "Processing Record 4 of Set 6 | hit\n",
      "Processing Record 5 of Set 6 | suntar\n",
      "Processing Record 6 of Set 6 | seoul\n",
      "Processing Record 7 of Set 6 | westport\n",
      "Processing Record 8 of Set 6 | wakkanai\n",
      "Processing Record 9 of Set 6 | coihaique\n",
      "Processing Record 10 of Set 6 | roberto payan\n",
      "City not found. Skipping..\n",
      "Processing Record 11 of Set 6 | vao\n",
      "Processing Record 12 of Set 6 | castro\n",
      "Processing Record 13 of Set 6 | varkkallai\n",
      "Processing Record 14 of Set 6 | punta alta\n",
      "Processing Record 15 of Set 6 | belushya guba\n",
      "City not found. Skipping..\n",
      "Processing Record 16 of Set 6 | xining\n",
      "Processing Record 17 of Set 6 | sorong\n",
      "Processing Record 18 of Set 6 | samarai\n",
      "Processing Record 19 of Set 6 | tecoanapa\n",
      "Processing Record 20 of Set 6 | grindavik\n",
      "Processing Record 21 of Set 6 | yenagoa\n",
      "Processing Record 22 of Set 6 | simpang\n",
      "Processing Record 23 of Set 6 | santiago\n",
      "Processing Record 24 of Set 6 | karratha\n",
      "Processing Record 25 of Set 6 | zyryanka\n",
      "Processing Record 26 of Set 6 | husavik\n",
      "Processing Record 27 of Set 6 | luis gil perez\n",
      "Processing Record 28 of Set 6 | inuvik\n",
      "Processing Record 29 of Set 6 | srednekolymsk\n",
      "Processing Record 30 of Set 6 | swinford\n",
      "Processing Record 31 of Set 6 | colares\n",
      "Processing Record 32 of Set 6 | hilo\n",
      "Processing Record 33 of Set 6 | pak phanang\n",
      "Processing Record 34 of Set 6 | vila franca do campo\n",
      "Processing Record 35 of Set 6 | zemio\n",
      "Processing Record 36 of Set 6 | abu samrah\n",
      "Processing Record 37 of Set 6 | busembatia\n",
      "Processing Record 38 of Set 6 | katherine\n",
      "Processing Record 39 of Set 6 | chiredzi\n",
      "Processing Record 40 of Set 6 | cayenne\n",
      "Processing Record 41 of Set 6 | zhigansk\n",
      "Processing Record 42 of Set 6 | soubre\n",
      "Processing Record 43 of Set 6 | sur\n",
      "Processing Record 44 of Set 6 | saryg-sep\n",
      "Processing Record 45 of Set 6 | inhambane\n",
      "Processing Record 46 of Set 6 | kingman\n",
      "Processing Record 47 of Set 6 | nanortalik\n",
      "Processing Record 48 of Set 6 | esso\n",
      "Processing Record 49 of Set 6 | forestville\n",
      "Processing Record 50 of Set 6 | russell\n",
      "Processing Record 1 of Set 7 | san patricio\n",
      "Processing Record 2 of Set 7 | baiquan\n",
      "Processing Record 3 of Set 7 | kholodnyy\n",
      "Processing Record 4 of Set 7 | ilhabela\n",
      "Processing Record 5 of Set 7 | mandera\n",
      "Processing Record 6 of Set 7 | kanganpur\n",
      "Processing Record 7 of Set 7 | yar-sale\n",
      "Processing Record 8 of Set 7 | carayao\n",
      "Processing Record 9 of Set 7 | mys shmidta\n",
      "City not found. Skipping..\n",
      "Processing Record 10 of Set 7 | puerto narino\n",
      "Processing Record 11 of Set 7 | loreto\n",
      "Processing Record 12 of Set 7 | sitka\n",
      "Processing Record 13 of Set 7 | kattivakkam\n",
      "Processing Record 14 of Set 7 | nemuro\n",
      "Processing Record 15 of Set 7 | richards bay\n",
      "Processing Record 16 of Set 7 | narsaq\n",
      "Processing Record 17 of Set 7 | rantauprapat\n",
      "Processing Record 18 of Set 7 | bargal\n",
      "City not found. Skipping..\n",
      "Processing Record 19 of Set 7 | masterton\n",
      "Processing Record 20 of Set 7 | andenes\n",
      "Processing Record 21 of Set 7 | cabo san lucas\n",
      "Processing Record 22 of Set 7 | doctor phillips\n",
      "Processing Record 23 of Set 7 | sebinkarahisar\n",
      "Processing Record 24 of Set 7 | muisne\n",
      "Processing Record 25 of Set 7 | guerrero negro\n",
      "Processing Record 26 of Set 7 | montrose\n",
      "Processing Record 27 of Set 7 | ginir\n",
      "Processing Record 28 of Set 7 | jaque\n",
      "Processing Record 29 of Set 7 | bonavista\n",
      "Processing Record 30 of Set 7 | alta floresta\n",
      "Processing Record 31 of Set 7 | matamoros\n",
      "Processing Record 32 of Set 7 | demirci\n",
      "Processing Record 33 of Set 7 | khor\n",
      "Processing Record 34 of Set 7 | lazaro cardenas\n",
      "Processing Record 35 of Set 7 | buenos aires\n",
      "Processing Record 36 of Set 7 | mandalgovi\n",
      "Processing Record 37 of Set 7 | devin\n",
      "Processing Record 38 of Set 7 | berdigestyakh\n",
      "Processing Record 39 of Set 7 | faanui\n",
      "Processing Record 40 of Set 7 | kuznechnoye\n",
      "Processing Record 41 of Set 7 | shubarkuduk\n",
      "Processing Record 42 of Set 7 | hope\n",
      "Processing Record 43 of Set 7 | saint-francois\n",
      "Processing Record 44 of Set 7 | yelahanka\n",
      "Processing Record 45 of Set 7 | port augusta\n",
      "Processing Record 46 of Set 7 | akhmim\n",
      "Processing Record 47 of Set 7 | hithadhoo\n",
      "Processing Record 48 of Set 7 | aripuana\n",
      "Processing Record 49 of Set 7 | qaqortoq\n",
      "Processing Record 50 of Set 7 | garden city\n",
      "Processing Record 1 of Set 8 | vangaindrano\n",
      "Processing Record 2 of Set 8 | kemijarvi\n",
      "Processing Record 3 of Set 8 | menongue\n",
      "Processing Record 4 of Set 8 | krasnaya zarya\n",
      "Processing Record 5 of Set 8 | talcahuano\n",
      "Processing Record 6 of Set 8 | santa maria\n",
      "Processing Record 7 of Set 8 | namibe\n",
      "Processing Record 8 of Set 8 | avera\n",
      "Processing Record 9 of Set 8 | acapulco\n",
      "Processing Record 10 of Set 8 | kembe\n",
      "Processing Record 11 of Set 8 | muzambinho\n",
      "Processing Record 12 of Set 8 | tuatapere\n",
      "Processing Record 13 of Set 8 | tuggurt\n",
      "City not found. Skipping..\n",
      "Processing Record 14 of Set 8 | mount vernon\n",
      "Processing Record 15 of Set 8 | rocha\n",
      "Processing Record 16 of Set 8 | te anau\n",
      "Processing Record 17 of Set 8 | ampanihy\n",
      "Processing Record 18 of Set 8 | doha\n",
      "Processing Record 19 of Set 8 | kodiak\n",
      "Processing Record 20 of Set 8 | whitehorse\n",
      "Processing Record 21 of Set 8 | lewistown\n",
      "Processing Record 22 of Set 8 | yerbogachen\n",
      "Processing Record 23 of Set 8 | toowoomba\n",
      "Processing Record 24 of Set 8 | litovko\n",
      "Processing Record 25 of Set 8 | lincoln\n",
      "Processing Record 26 of Set 8 | opuwo\n",
      "Processing Record 27 of Set 8 | hami\n",
      "Processing Record 28 of Set 8 | hereford\n",
      "Processing Record 29 of Set 8 | maltahohe\n",
      "Processing Record 30 of Set 8 | benghazi\n"
     ]
    },
    {
     "name": "stdout",
     "output_type": "stream",
     "text": [
      "Processing Record 31 of Set 8 | ergani\n",
      "Processing Record 32 of Set 8 | wanaka\n",
      "Processing Record 33 of Set 8 | ewo\n",
      "Processing Record 34 of Set 8 | kismayo\n",
      "Processing Record 35 of Set 8 | nerchinskiy zavod\n",
      "Processing Record 36 of Set 8 | romny\n",
      "Processing Record 37 of Set 8 | walvis bay\n",
      "Processing Record 38 of Set 8 | mao\n",
      "Processing Record 39 of Set 8 | richmond\n",
      "Processing Record 40 of Set 8 | wajima\n",
      "Processing Record 41 of Set 8 | north myrtle beach\n",
      "Processing Record 42 of Set 8 | uruguaiana\n",
      "Processing Record 43 of Set 8 | karla\n",
      "Processing Record 44 of Set 8 | samalaeulu\n",
      "City not found. Skipping..\n",
      "Processing Record 45 of Set 8 | carnarvon\n",
      "Processing Record 46 of Set 8 | kungurtug\n",
      "Processing Record 47 of Set 8 | morehead\n",
      "Processing Record 48 of Set 8 | blagoveshchenka\n",
      "Processing Record 49 of Set 8 | preobrazheniye\n",
      "Processing Record 50 of Set 8 | longlac\n",
      "City not found. Skipping..\n",
      "Processing Record 1 of Set 9 | mmathubudukwane\n",
      "Processing Record 2 of Set 9 | nchelenge\n",
      "Processing Record 3 of Set 9 | goure\n",
      "Processing Record 4 of Set 9 | mehran\n",
      "Processing Record 5 of Set 9 | hervey bay\n",
      "Processing Record 6 of Set 9 | ifo\n",
      "Processing Record 7 of Set 9 | chinhoyi\n",
      "Processing Record 8 of Set 9 | murmashi\n",
      "Processing Record 9 of Set 9 | nara\n",
      "Processing Record 10 of Set 9 | sedelnikovo\n",
      "City not found. Skipping..\n",
      "Processing Record 11 of Set 9 | hasaki\n",
      "Processing Record 12 of Set 9 | fukue\n",
      "Processing Record 13 of Set 9 | scarborough\n",
      "Processing Record 14 of Set 9 | isangel\n",
      "Processing Record 15 of Set 9 | mocambique\n",
      "City not found. Skipping..\n",
      "Processing Record 16 of Set 9 | east retford\n",
      "Processing Record 17 of Set 9 | falealupo\n",
      "City not found. Skipping..\n",
      "Processing Record 18 of Set 9 | kampot\n",
      "Processing Record 19 of Set 9 | zaragoza\n",
      "Processing Record 20 of Set 9 | mitchell\n",
      "Processing Record 21 of Set 9 | dubreka\n",
      "Processing Record 22 of Set 9 | khujner\n",
      "Processing Record 23 of Set 9 | palmer\n",
      "Processing Record 24 of Set 9 | ulladulla\n",
      "Processing Record 25 of Set 9 | kandrian\n",
      "Processing Record 26 of Set 9 | puerto suarez\n",
      "Processing Record 27 of Set 9 | saleaula\n",
      "City not found. Skipping..\n",
      "Processing Record 28 of Set 9 | baherden\n",
      "Processing Record 29 of Set 9 | torit\n",
      "Processing Record 30 of Set 9 | atar\n",
      "Processing Record 31 of Set 9 | harrisonburg\n",
      "Processing Record 32 of Set 9 | sibolga\n",
      "Processing Record 33 of Set 9 | dalvik\n",
      "Processing Record 34 of Set 9 | xinzhi\n",
      "Processing Record 35 of Set 9 | jumla\n",
      "Processing Record 36 of Set 9 | kamaishi\n",
      "Processing Record 37 of Set 9 | nurobod\n",
      "Processing Record 38 of Set 9 | matagami\n",
      "Processing Record 39 of Set 9 | loubomo\n",
      "Processing Record 40 of Set 9 | hambantota\n",
      "Processing Record 41 of Set 9 | tateyama\n",
      "Processing Record 42 of Set 9 | kikwit\n",
      "Processing Record 43 of Set 9 | wa\n",
      "City not found. Skipping..\n",
      "Processing Record 44 of Set 9 | egvekinot\n",
      "Processing Record 45 of Set 9 | faya\n",
      "Processing Record 46 of Set 9 | margate\n",
      "Processing Record 47 of Set 9 | miraflores\n",
      "Processing Record 48 of Set 9 | kuche\n",
      "City not found. Skipping..\n",
      "Processing Record 49 of Set 9 | lahuachaca\n",
      "Processing Record 50 of Set 9 | harnosand\n",
      "Processing Record 1 of Set 10 | souillac\n",
      "Processing Record 2 of Set 10 | blagoyevo\n",
      "Processing Record 3 of Set 10 | shuangcheng\n",
      "Processing Record 4 of Set 10 | eydhafushi\n",
      "Processing Record 5 of Set 10 | buala\n",
      "Processing Record 6 of Set 10 | emerald\n",
      "Processing Record 7 of Set 10 | verkh-usugli\n",
      "Processing Record 8 of Set 10 | crixas\n",
      "Processing Record 9 of Set 10 | bandrele\n",
      "Processing Record 10 of Set 10 | lodja\n",
      "Processing Record 11 of Set 10 | pangnirtung\n",
      "Processing Record 12 of Set 10 | palabuhanratu\n",
      "City not found. Skipping..\n",
      "Processing Record 13 of Set 10 | sisimiut\n",
      "Processing Record 14 of Set 10 | daura\n",
      "Processing Record 15 of Set 10 | mogadishu\n",
      "Processing Record 16 of Set 10 | cochrane\n",
      "Processing Record 17 of Set 10 | beira\n",
      "Processing Record 18 of Set 10 | tilichiki\n",
      "Processing Record 19 of Set 10 | kenora\n",
      "Processing Record 20 of Set 10 | puerto ayacucho\n",
      "Processing Record 21 of Set 10 | xingtai\n",
      "Processing Record 22 of Set 10 | lavrentiya\n",
      "Processing Record 23 of Set 10 | iquique\n",
      "Processing Record 24 of Set 10 | mahon\n",
      "Processing Record 25 of Set 10 | batemans bay\n",
      "Processing Record 26 of Set 10 | ngukurr\n",
      "City not found. Skipping..\n",
      "Processing Record 27 of Set 10 | jacksonville\n",
      "Processing Record 28 of Set 10 | kutum\n",
      "Processing Record 29 of Set 10 | pozhva\n",
      "Processing Record 30 of Set 10 | adre\n",
      "Processing Record 31 of Set 10 | dingle\n",
      "Processing Record 32 of Set 10 | aykino\n",
      "Processing Record 33 of Set 10 | prince rupert\n",
      "Processing Record 34 of Set 10 | vestmannaeyjar\n",
      "Processing Record 35 of Set 10 | fare\n",
      "Processing Record 36 of Set 10 | bhainsdehi\n",
      "Processing Record 37 of Set 10 | svetlogorsk\n",
      "Processing Record 38 of Set 10 | la union\n",
      "Processing Record 39 of Set 10 | yanggu\n",
      "Processing Record 40 of Set 10 | gejiu\n",
      "Processing Record 41 of Set 10 | catuday\n",
      "Processing Record 42 of Set 10 | harlingen\n",
      "Processing Record 43 of Set 10 | marcona\n",
      "City not found. Skipping..\n",
      "Processing Record 44 of Set 10 | lokosovo\n",
      "Processing Record 45 of Set 10 | kupang\n",
      "Processing Record 46 of Set 10 | horodnytsya\n",
      "Processing Record 47 of Set 10 | punto fijo\n",
      "Processing Record 48 of Set 10 | alofi\n",
      "Processing Record 49 of Set 10 | havelock\n",
      "Processing Record 50 of Set 10 | lively\n",
      "Processing Record 1 of Set 11 | magdagachi\n",
      "Processing Record 2 of Set 11 | lichinga\n",
      "Processing Record 3 of Set 11 | mitsamiouli\n",
      "Processing Record 4 of Set 11 | jalu\n",
      "Processing Record 5 of Set 11 | riverton\n",
      "Processing Record 6 of Set 11 | masallatah\n",
      "Processing Record 7 of Set 11 | aklavik\n",
      "Processing Record 8 of Set 11 | rio de janeiro\n",
      "Processing Record 9 of Set 11 | alice springs\n",
      "Processing Record 10 of Set 11 | gilgil\n",
      "City not found. Skipping..\n",
      "Processing Record 11 of Set 11 | cartagena\n",
      "Processing Record 12 of Set 11 | ust-kuyga\n",
      "Processing Record 13 of Set 11 | komsomolskiy\n",
      "Processing Record 14 of Set 11 | kontagora\n",
      "Processing Record 15 of Set 11 | tigzirt\n",
      "Processing Record 16 of Set 11 | sampit\n",
      "Processing Record 17 of Set 11 | gamba\n",
      "Processing Record 18 of Set 11 | kisangani\n",
      "Processing Record 19 of Set 11 | fairbanks\n",
      "Processing Record 20 of Set 11 | kavieng\n",
      "Processing Record 21 of Set 11 | goedereede\n",
      "Processing Record 22 of Set 11 | abnub\n",
      "Processing Record 23 of Set 11 | san carlos\n",
      "Processing Record 24 of Set 11 | sao geraldo do araguaia\n",
      "Processing Record 25 of Set 11 | tasbuget\n",
      "City not found. Skipping..\n",
      "Processing Record 26 of Set 11 | buin\n",
      "Processing Record 27 of Set 11 | flinders\n",
      "Processing Record 28 of Set 11 | la asuncion\n",
      "Processing Record 29 of Set 11 | kankaanpaa\n",
      "Processing Record 30 of Set 11 | villazon\n",
      "Processing Record 31 of Set 11 | kilmez\n",
      "City not found. Skipping..\n",
      "Processing Record 32 of Set 11 | birao\n",
      "Processing Record 33 of Set 11 | parit buntar\n",
      "Processing Record 34 of Set 11 | lata\n",
      "Processing Record 35 of Set 11 | killam\n",
      "Processing Record 36 of Set 11 | maumere\n",
      "Processing Record 37 of Set 11 | rawlins\n",
      "Processing Record 38 of Set 11 | mosquera\n",
      "Processing Record 39 of Set 11 | labuhan\n",
      "Processing Record 40 of Set 11 | vilhena\n",
      "Processing Record 41 of Set 11 | tupaciguara\n",
      "Processing Record 42 of Set 11 | zaterechnyy\n",
      "Processing Record 43 of Set 11 | bilibino\n",
      "Processing Record 44 of Set 11 | madang\n",
      "Processing Record 45 of Set 11 | shelburne\n",
      "Processing Record 46 of Set 11 | skwierzyna\n",
      "Processing Record 47 of Set 11 | ashington\n",
      "Processing Record 48 of Set 11 | oranjemund\n",
      "Processing Record 49 of Set 11 | vesele\n",
      "Processing Record 50 of Set 11 | altamont\n",
      "Processing Record 1 of Set 12 | prince albert\n",
      "Processing Record 2 of Set 12 | poum\n",
      "Processing Record 3 of Set 12 | kavaratti\n",
      "Processing Record 4 of Set 12 | esmeraldas\n",
      "Processing Record 5 of Set 12 | clarence town\n",
      "Processing Record 6 of Set 12 | muros\n",
      "Processing Record 7 of Set 12 | mullaitivu\n",
      "City not found. Skipping..\n",
      "Processing Record 8 of Set 12 | teya\n",
      "Processing Record 9 of Set 12 | picton\n",
      "Processing Record 10 of Set 12 | podgorodnyaya pokrovka\n",
      "Processing Record 11 of Set 12 | palafrugell\n",
      "Processing Record 12 of Set 12 | uruana\n",
      "Processing Record 13 of Set 12 | santa isabel do rio negro\n",
      "Processing Record 14 of Set 12 | hatillo\n",
      "Processing Record 15 of Set 12 | tocopilla\n",
      "Processing Record 16 of Set 12 | warrnambool\n",
      "Processing Record 17 of Set 12 | old saybrook\n",
      "Processing Record 18 of Set 12 | olinda\n",
      "Processing Record 19 of Set 12 | ranong\n"
     ]
    },
    {
     "name": "stdout",
     "output_type": "stream",
     "text": [
      "Processing Record 20 of Set 12 | ambovombe\n",
      "Processing Record 21 of Set 12 | fuerte olimpo\n",
      "Processing Record 22 of Set 12 | uptar\n",
      "Processing Record 23 of Set 12 | santa vitoria do palmar\n",
      "Processing Record 24 of Set 12 | pedasi\n",
      "Processing Record 25 of Set 12 | meyungs\n",
      "City not found. Skipping..\n",
      "Processing Record 26 of Set 12 | vaitupu\n",
      "City not found. Skipping..\n",
      "Processing Record 27 of Set 12 | ahar\n",
      "Processing Record 28 of Set 12 | olsztyn\n",
      "Processing Record 29 of Set 12 | gat\n",
      "Processing Record 30 of Set 12 | guarapari\n",
      "Processing Record 31 of Set 12 | ituni\n",
      "City not found. Skipping..\n",
      "Processing Record 32 of Set 12 | nyagan\n",
      "Processing Record 33 of Set 12 | lethem\n",
      "Processing Record 34 of Set 12 | simpsonville\n",
      "Processing Record 35 of Set 12 | ayagoz\n",
      "Processing Record 36 of Set 12 | bom jesus\n",
      "Processing Record 37 of Set 12 | mount pleasant\n",
      "Processing Record 38 of Set 12 | kampong thum\n",
      "Processing Record 39 of Set 12 | mulege\n",
      "Processing Record 40 of Set 12 | altos\n",
      "Processing Record 41 of Set 12 | suao\n",
      "City not found. Skipping..\n",
      "Processing Record 42 of Set 12 | moose factory\n",
      "Processing Record 43 of Set 12 | banikoara\n",
      "Processing Record 44 of Set 12 | victor harbor\n",
      "Processing Record 45 of Set 12 | marau\n",
      "Processing Record 46 of Set 12 | polunochnoye\n",
      "Processing Record 47 of Set 12 | sistranda\n",
      "Processing Record 48 of Set 12 | ambanja\n",
      "Processing Record 49 of Set 12 | kloulklubed\n",
      "Processing Record 50 of Set 12 | halalo\n",
      "City not found. Skipping..\n",
      "Processing Record 1 of Set 13 | luwuk\n",
      "Processing Record 2 of Set 13 | acambaro\n",
      "Processing Record 3 of Set 13 | natchez\n",
      "Processing Record 4 of Set 13 | bubaque\n",
      "Processing Record 5 of Set 13 | pokrovsk\n",
      "Processing Record 6 of Set 13 | el faiyum\n",
      "City not found. Skipping..\n",
      "Processing Record 7 of Set 13 | gulshat\n",
      "City not found. Skipping..\n",
      "Processing Record 8 of Set 13 | dudinka\n"
     ]
    }
   ],
   "source": [
    "# Save config information\n",
    "url = \"http://api.openweathermap.org/data/2.5/weather?units=Imperial&APPID=\" + weather_api_key\n",
    "\n",
    "#url = \"https://api.openweathermap.org/data/2.5/weather?\"\n",
    "#units = \"metric\"\n",
    "\n",
    "#Test for url's and to make sure my api key is working \n",
    "#query_url = url + \"appid=\" + weather_api_key + \"&q=\" + city + \"&units=\" + units \n",
    "#response = requests.get(query_url + city).json()\n",
    "#weather_response = response.get(query_url)\n",
    "\n",
    "city_name = []\n",
    "lat = []\n",
    "long = []\n",
    "max_temp = []\n",
    "humidity = []\n",
    "cloudiness = []\n",
    "wind_speed = []\n",
    "country = []\n",
    "date = []\n",
    "\n",
    "# Create Counters\n",
    "record_count = 1\n",
    "set_count = 1\n",
    "\n",
    "for i, city in enumerate(cities):\n",
    "    # Group cities in sets of 50\n",
    "    if (i % 50 == 0 and i >= 50):\n",
    "        set_count += 1\n",
    "        record_count = 1\n",
    "        \n",
    "    # create the endpoint URL for each city\n",
    "    query_url = url + \"&q=\" + city\n",
    "    \n",
    "    # Log the url, record, and set numbers\n",
    "    print(\"Processing Record %s of Set %s | %s\" % (record_count, set_count, city))\n",
    "    \n",
    "    # Add 1 to the record count\n",
    "    record_count += 1\n",
    "    \n",
    "    try:\n",
    "        #query_url = url + \"appid=\" + weather_api_key + \"&q=\" + city + \"&units=\" + units\n",
    "        \n",
    "        response = requests.get(query_url).json()\n",
    "        #weather_response = response.get(query_url)\n",
    "        city_name.append(response[\"name\"])\n",
    "        lat.append(response[\"coord\"][\"lat\"])\n",
    "        long.append(response[\"coord\"][\"lon\"])\n",
    "        max_temp.append(response[\"main\"][\"temp_max\"])\n",
    "        humidity.append(response[\"main\"][\"humidity\"])\n",
    "        cloudiness.append(response[\"clouds\"][\"all\"])\n",
    "        wind_speed.append(response[\"wind\"][\"speed\"])\n",
    "        country.append(response[\"sys\"][\"country\"])\n",
    "        date.append(response[\"dt\"])\n",
    "\n",
    "    except:\n",
    "        print(\"City not found. Skipping..\")\n",
    "        pass"
   ]
  },
  {
   "cell_type": "code",
   "execution_count": 9,
   "id": "b89b069b",
   "metadata": {},
   "outputs": [],
   "source": [
    "# make a dictionary to hold the weather data for each city \n",
    "city_weather_dict = {\"City\": city_name,\n",
    "                    \"Lat\": lat,\n",
    "                    \"Lng\": long,\n",
    "                    \"Max Temp\": max_temp,\n",
    "                    \"Humidity\": humidity,\n",
    "                    \"Cloudiness\": cloudiness,\n",
    "                    \"Wind Speed\": wind_speed,\n",
    "                    \"Country\": country,\n",
    "                    \"Date\": date}"
   ]
  },
  {
   "cell_type": "markdown",
   "id": "567acf0f",
   "metadata": {},
   "source": [
    "### Convert Raw Data to DataFrame\n",
    "* Export the city data into a .csv.\n",
    "* Display the DataFrame"
   ]
  },
  {
   "cell_type": "code",
   "execution_count": 11,
   "id": "ac38cbed",
   "metadata": {},
   "outputs": [
    {
     "data": {
      "text/html": [
       "<div>\n",
       "<style scoped>\n",
       "    .dataframe tbody tr th:only-of-type {\n",
       "        vertical-align: middle;\n",
       "    }\n",
       "\n",
       "    .dataframe tbody tr th {\n",
       "        vertical-align: top;\n",
       "    }\n",
       "\n",
       "    .dataframe thead th {\n",
       "        text-align: right;\n",
       "    }\n",
       "</style>\n",
       "<table border=\"1\" class=\"dataframe\">\n",
       "  <thead>\n",
       "    <tr style=\"text-align: right;\">\n",
       "      <th></th>\n",
       "      <th>City</th>\n",
       "      <th>Lat</th>\n",
       "      <th>Lng</th>\n",
       "      <th>Max Temp</th>\n",
       "      <th>Humidity</th>\n",
       "      <th>Cloudiness</th>\n",
       "      <th>Wind Speed</th>\n",
       "      <th>Country</th>\n",
       "      <th>Date</th>\n",
       "    </tr>\n",
       "  </thead>\n",
       "  <tbody>\n",
       "    <tr>\n",
       "      <th>0</th>\n",
       "      <td>Ushuaia</td>\n",
       "      <td>-54.8000</td>\n",
       "      <td>-68.3000</td>\n",
       "      <td>46.06</td>\n",
       "      <td>66</td>\n",
       "      <td>75</td>\n",
       "      <td>3.44</td>\n",
       "      <td>AR</td>\n",
       "      <td>1650742629</td>\n",
       "    </tr>\n",
       "    <tr>\n",
       "      <th>1</th>\n",
       "      <td>Arrondissement de Tulle</td>\n",
       "      <td>45.3333</td>\n",
       "      <td>1.8333</td>\n",
       "      <td>44.98</td>\n",
       "      <td>99</td>\n",
       "      <td>100</td>\n",
       "      <td>6.35</td>\n",
       "      <td>FR</td>\n",
       "      <td>1650742639</td>\n",
       "    </tr>\n",
       "    <tr>\n",
       "      <th>2</th>\n",
       "      <td>Port Blair</td>\n",
       "      <td>11.6667</td>\n",
       "      <td>92.7500</td>\n",
       "      <td>80.64</td>\n",
       "      <td>94</td>\n",
       "      <td>20</td>\n",
       "      <td>2.30</td>\n",
       "      <td>IN</td>\n",
       "      <td>1650742640</td>\n",
       "    </tr>\n",
       "    <tr>\n",
       "      <th>3</th>\n",
       "      <td>Iqaluit</td>\n",
       "      <td>63.7506</td>\n",
       "      <td>-68.5145</td>\n",
       "      <td>11.93</td>\n",
       "      <td>72</td>\n",
       "      <td>20</td>\n",
       "      <td>3.44</td>\n",
       "      <td>CA</td>\n",
       "      <td>1650742640</td>\n",
       "    </tr>\n",
       "    <tr>\n",
       "      <th>4</th>\n",
       "      <td>Caravelas</td>\n",
       "      <td>-17.7125</td>\n",
       "      <td>-39.2481</td>\n",
       "      <td>80.19</td>\n",
       "      <td>80</td>\n",
       "      <td>48</td>\n",
       "      <td>8.10</td>\n",
       "      <td>BR</td>\n",
       "      <td>1650742640</td>\n",
       "    </tr>\n",
       "  </tbody>\n",
       "</table>\n",
       "</div>"
      ],
      "text/plain": [
       "                      City      Lat      Lng  Max Temp  Humidity  Cloudiness  \\\n",
       "0                  Ushuaia -54.8000 -68.3000     46.06        66          75   \n",
       "1  Arrondissement de Tulle  45.3333   1.8333     44.98        99         100   \n",
       "2               Port Blair  11.6667  92.7500     80.64        94          20   \n",
       "3                  Iqaluit  63.7506 -68.5145     11.93        72          20   \n",
       "4                Caravelas -17.7125 -39.2481     80.19        80          48   \n",
       "\n",
       "   Wind Speed Country        Date  \n",
       "0        3.44      AR  1650742629  \n",
       "1        6.35      FR  1650742639  \n",
       "2        2.30      IN  1650742640  \n",
       "3        3.44      CA  1650742640  \n",
       "4        8.10      BR  1650742640  "
      ]
     },
     "execution_count": 11,
     "metadata": {},
     "output_type": "execute_result"
    }
   ],
   "source": [
    "city_weather_df = pd.DataFrame.from_dict(city_weather_dict)\n",
    "city_weather_df.head()"
   ]
  },
  {
   "cell_type": "code",
   "execution_count": 12,
   "id": "b0bc14ea",
   "metadata": {},
   "outputs": [],
   "source": [
    "city_weather_df.to_csv('output_data/my_cities.csv', header=True, index=False, mode='w')"
   ]
  },
  {
   "cell_type": "code",
   "execution_count": 13,
   "id": "b1dca654",
   "metadata": {},
   "outputs": [
    {
     "data": {
      "text/html": [
       "<div>\n",
       "<style scoped>\n",
       "    .dataframe tbody tr th:only-of-type {\n",
       "        vertical-align: middle;\n",
       "    }\n",
       "\n",
       "    .dataframe tbody tr th {\n",
       "        vertical-align: top;\n",
       "    }\n",
       "\n",
       "    .dataframe thead th {\n",
       "        text-align: right;\n",
       "    }\n",
       "</style>\n",
       "<table border=\"1\" class=\"dataframe\">\n",
       "  <thead>\n",
       "    <tr style=\"text-align: right;\">\n",
       "      <th></th>\n",
       "      <th>Lat</th>\n",
       "      <th>Lng</th>\n",
       "      <th>Max Temp</th>\n",
       "      <th>Humidity</th>\n",
       "      <th>Cloudiness</th>\n",
       "      <th>Wind Speed</th>\n",
       "      <th>Date</th>\n",
       "    </tr>\n",
       "  </thead>\n",
       "  <tbody>\n",
       "    <tr>\n",
       "      <th>count</th>\n",
       "      <td>556.000000</td>\n",
       "      <td>556.000000</td>\n",
       "      <td>556.000000</td>\n",
       "      <td>556.000000</td>\n",
       "      <td>556.000000</td>\n",
       "      <td>556.000000</td>\n",
       "      <td>5.560000e+02</td>\n",
       "    </tr>\n",
       "    <tr>\n",
       "      <th>mean</th>\n",
       "      <td>18.840201</td>\n",
       "      <td>16.584004</td>\n",
       "      <td>60.558399</td>\n",
       "      <td>69.383094</td>\n",
       "      <td>56.336331</td>\n",
       "      <td>8.401619</td>\n",
       "      <td>1.650743e+09</td>\n",
       "    </tr>\n",
       "    <tr>\n",
       "      <th>std</th>\n",
       "      <td>34.354149</td>\n",
       "      <td>91.158628</td>\n",
       "      <td>22.538957</td>\n",
       "      <td>23.175064</td>\n",
       "      <td>40.414477</td>\n",
       "      <td>6.259306</td>\n",
       "      <td>8.695261e+01</td>\n",
       "    </tr>\n",
       "    <tr>\n",
       "      <th>min</th>\n",
       "      <td>-54.800000</td>\n",
       "      <td>-179.166700</td>\n",
       "      <td>-14.300000</td>\n",
       "      <td>1.000000</td>\n",
       "      <td>0.000000</td>\n",
       "      <td>0.000000</td>\n",
       "      <td>1.650742e+09</td>\n",
       "    </tr>\n",
       "    <tr>\n",
       "      <th>25%</th>\n",
       "      <td>-10.279200</td>\n",
       "      <td>-65.990725</td>\n",
       "      <td>47.437500</td>\n",
       "      <td>53.000000</td>\n",
       "      <td>12.000000</td>\n",
       "      <td>3.685000</td>\n",
       "      <td>1.650743e+09</td>\n",
       "    </tr>\n",
       "    <tr>\n",
       "      <th>50%</th>\n",
       "      <td>23.098450</td>\n",
       "      <td>20.280450</td>\n",
       "      <td>65.615000</td>\n",
       "      <td>75.000000</td>\n",
       "      <td>65.000000</td>\n",
       "      <td>7.000000</td>\n",
       "      <td>1.650743e+09</td>\n",
       "    </tr>\n",
       "    <tr>\n",
       "      <th>75%</th>\n",
       "      <td>48.699925</td>\n",
       "      <td>99.925475</td>\n",
       "      <td>79.022500</td>\n",
       "      <td>88.000000</td>\n",
       "      <td>100.000000</td>\n",
       "      <td>11.500000</td>\n",
       "      <td>1.650743e+09</td>\n",
       "    </tr>\n",
       "    <tr>\n",
       "      <th>max</th>\n",
       "      <td>78.218600</td>\n",
       "      <td>179.316700</td>\n",
       "      <td>96.760000</td>\n",
       "      <td>100.000000</td>\n",
       "      <td>100.000000</td>\n",
       "      <td>47.180000</td>\n",
       "      <td>1.650743e+09</td>\n",
       "    </tr>\n",
       "  </tbody>\n",
       "</table>\n",
       "</div>"
      ],
      "text/plain": [
       "              Lat         Lng    Max Temp    Humidity  Cloudiness  Wind Speed  \\\n",
       "count  556.000000  556.000000  556.000000  556.000000  556.000000  556.000000   \n",
       "mean    18.840201   16.584004   60.558399   69.383094   56.336331    8.401619   \n",
       "std     34.354149   91.158628   22.538957   23.175064   40.414477    6.259306   \n",
       "min    -54.800000 -179.166700  -14.300000    1.000000    0.000000    0.000000   \n",
       "25%    -10.279200  -65.990725   47.437500   53.000000   12.000000    3.685000   \n",
       "50%     23.098450   20.280450   65.615000   75.000000   65.000000    7.000000   \n",
       "75%     48.699925   99.925475   79.022500   88.000000  100.000000   11.500000   \n",
       "max     78.218600  179.316700   96.760000  100.000000  100.000000   47.180000   \n",
       "\n",
       "               Date  \n",
       "count  5.560000e+02  \n",
       "mean   1.650743e+09  \n",
       "std    8.695261e+01  \n",
       "min    1.650742e+09  \n",
       "25%    1.650743e+09  \n",
       "50%    1.650743e+09  \n",
       "75%    1.650743e+09  \n",
       "max    1.650743e+09  "
      ]
     },
     "execution_count": 13,
     "metadata": {},
     "output_type": "execute_result"
    }
   ],
   "source": [
    "city_weather_df.describe()"
   ]
  },
  {
   "cell_type": "markdown",
   "id": "223606b8",
   "metadata": {},
   "source": [
    "## Inspect the data and remove the cities where the humidity > 100%.\n",
    "----\n",
    "Skip this step if there are no cities that have humidity > 100%. "
   ]
  },
  {
   "cell_type": "code",
   "execution_count": 14,
   "id": "9280b5a0",
   "metadata": {},
   "outputs": [
    {
     "data": {
      "text/plain": [
       "Int64Index([], dtype='int64')"
      ]
     },
     "execution_count": 14,
     "metadata": {},
     "output_type": "execute_result"
    }
   ],
   "source": [
    "humid_cities = city_weather_df[(city_weather_df[\"Humidity\"]>100)].index\n",
    "humid_cities"
   ]
  },
  {
   "cell_type": "markdown",
   "id": "b119c197",
   "metadata": {},
   "source": [
    "## Plotting the Data\n",
    "* Use proper labeling of the plots using plot titles (including date of analysis) and axes labels.\n",
    "* Save the plotted figures as .pngs."
   ]
  },
  {
   "cell_type": "markdown",
   "id": "03ffe5bb",
   "metadata": {},
   "source": [
    "## Latitude vs. Temperature Plot"
   ]
  },
  {
   "cell_type": "code",
   "execution_count": 27,
   "id": "aaee931e",
   "metadata": {},
   "outputs": [
    {
     "data": {
      "image/png": "[encoded data removed]",
      "text/plain": [
       "<Figure size 432x288 with 1 Axes>"
      ]
     },
     "metadata": {
      "needs_background": "light"
     },
     "output_type": "display_data"
    },
    {
     "data": {
      "text/plain": [
       "<Figure size 432x288 with 0 Axes>"
      ]
     },
     "metadata": {},
     "output_type": "display_data"
    }
   ],
   "source": [
    "plt.scatter(city_weather_df[\"Lat\"], city_weather_df[\"Max Temp\"], facecolors=\"red\", edgecolors=\"black\")\n",
    "plt.grid()\n",
    "plt.title(\"City Latitude vs. Temperature\")\n",
    "plt.xlabel(\"Latitude\")\n",
    "plt.ylabel(\"Max Temperature\")\n",
    "plt.show()\n",
    "plt.savefig(\"output_data\\city_lat_vs_temp.png\")"
   ]
  },
  {
   "cell_type": "markdown",
   "id": "6b49de62",
   "metadata": {},
   "source": [
    "## Latitude vs. Humidity Plot"
   ]
  },
  {
   "cell_type": "code",
   "execution_count": 28,
   "id": "12aff725",
   "metadata": {},
   "outputs": [
    {
     "data": {
      "image/png": "[encoded data removed]",
      "text/plain": [
       "<Figure size 432x288 with 1 Axes>"
      ]
     },
     "metadata": {
      "needs_background": "light"
     },
     "output_type": "display_data"
    },
    {
     "data": {
      "text/plain": [
       "<Figure size 432x288 with 0 Axes>"
      ]
     },
     "metadata": {},
     "output_type": "display_data"
    }
   ],
   "source": [
    "plt.scatter(city_weather_df[\"Lat\"], city_weather_df[\"Humidity\"], facecolors=\"green\", edgecolors=\"black\")\n",
    "plt.grid()\n",
    "plt.title(\"City Latitude vs. Humidity\")\n",
    "plt.xlabel(\"Latitude\")\n",
    "plt.ylabel(\"Humidity\")\n",
    "plt.show()\n",
    "plt.savefig(\"output_data\\city_lat_vs_humid.png\")"
   ]
  },
  {
   "cell_type": "markdown",
   "id": "3966909c",
   "metadata": {},
   "source": [
    "## Latitude vs. Cloudiness Plot"
   ]
  },
  {
   "cell_type": "code",
   "execution_count": 30,
   "id": "ea280109",
   "metadata": {},
   "outputs": [
    {
     "data": {
      "image/png": "[encoded data removed]",
      "text/plain": [
       "<Figure size 432x288 with 1 Axes>"
      ]
     },
     "metadata": {
      "needs_background": "light"
     },
     "output_type": "display_data"
    },
    {
     "data": {
      "text/plain": [
       "<Figure size 432x288 with 0 Axes>"
      ]
     },
     "metadata": {},
     "output_type": "display_data"
    }
   ],
   "source": [
    "plt.scatter(city_weather_df[\"Lat\"], city_weather_df[\"Cloudiness\"], facecolors=\"lightblue\", edgecolors=\"black\")\n",
    "plt.grid()\n",
    "plt.title(\"City Latitude vs. Cloudiness\")\n",
    "plt.xlabel(\"Latitude\")\n",
    "plt.ylabel(\"Cloudiness\")\n",
    "plt.show()\n",
    "plt.savefig(\"output_data\\city_lat_vs_cloud.png\")"
   ]
  },
  {
   "cell_type": "markdown",
   "id": "46b10e0e",
   "metadata": {},
   "source": [
    "## Latitude vs. Wind Speed Plot"
   ]
  },
  {
   "cell_type": "code",
   "execution_count": 33,
   "id": "5d802caf",
   "metadata": {},
   "outputs": [
    {
     "data": {
      "image/png": "[encoded data removed]",
      "text/plain": [
       "<Figure size 432x288 with 1 Axes>"
      ]
     },
     "metadata": {
      "needs_background": "light"
     },
     "output_type": "display_data"
    },
    {
     "data": {
      "text/plain": [
       "<Figure size 432x288 with 0 Axes>"
      ]
     },
     "metadata": {},
     "output_type": "display_data"
    }
   ],
   "source": [
    "plt.scatter(city_weather_df[\"Lat\"], city_weather_df[\"Wind Speed\"], facecolors=\"blue\", edgecolors=\"black\")\n",
    "plt.grid()\n",
    "plt.title(\"City Latitude vs. Wind Speed\")\n",
    "plt.xlabel(\"Latitude\")\n",
    "plt.ylabel(\"Wind Speed\")\n",
    "plt.show()\n",
    "plt.savefig(\"output_data\\city_lat_vs_winds.png\")"
   ]
  },
  {
   "cell_type": "markdown",
   "id": "fec22632",
   "metadata": {},
   "source": [
    "## Linear Regression"
   ]
  },
  {
   "cell_type": "code",
   "execution_count": 43,
   "id": "a2ab2237",
   "metadata": {},
   "outputs": [],
   "source": [
    "north_hemis = city_weather_df.loc[city_weather_df[\"Lat\"] > 0]\n",
    "south_hemis = city_weather_df.loc[city_weather_df[\"Lat\"] < 0]"
   ]
  },
  {
   "cell_type": "markdown",
   "id": "50b60a88",
   "metadata": {},
   "source": [
    "####  Northern Hemisphere - Max Temp vs. Latitude Linear Regression"
   ]
  },
  {
   "cell_type": "code",
   "execution_count": 44,
   "id": "b3bf19b3",
   "metadata": {},
   "outputs": [
    {
     "name": "stdout",
     "output_type": "stream",
     "text": [
      "The r-squared is: 0.7173253357332021\n"
     ]
    },
    {
     "data": {
      "image/png": "[encoded data removed]",
      "text/plain": [
       "<Figure size 432x288 with 1 Axes>"
      ]
     },
     "metadata": {
      "needs_background": "light"
     },
     "output_type": "display_data"
    }
   ],
   "source": [
    "x_values = north_hemis[\"Lat\"]\n",
    "y_values = north_hemis[\"Max Temp\"]\n",
    "(slope, intercept, rvalue, pvalue, stderr) = linregress(x_values, y_values)\n",
    "regress_values = x_values * slope + intercept\n",
    "line_eq = \"y = \" + str(round(slope,2)) + \"x + \" + str(round(intercept,2))\n",
    "plt.scatter(x_values,y_values)\n",
    "plt.plot(x_values,regress_values,\"r-\")\n",
    "plt.annotate(line_eq,(20,20),fontsize=15,color=\"red\")\n",
    "plt.title(\"Latitudes of the Northern Hemisphere vs. Max Temperature\")\n",
    "plt.xlabel(\"Latitude\")\n",
    "plt.ylabel(\"Max Temperature\")\n",
    "print(f\"The r-squared is: {rvalue**2}\")\n",
    "plt.show()"
   ]
  },
  {
   "cell_type": "markdown",
   "id": "14091885",
   "metadata": {},
   "source": [
    "####  Southern Hemisphere - Max Temp vs. Latitude Linear Regression\n"
   ]
  },
  {
   "cell_type": "code",
   "execution_count": 47,
   "id": "0233b361",
   "metadata": {},
   "outputs": [
    {
     "name": "stdout",
     "output_type": "stream",
     "text": [
      "The r-squared is: 0.5276646847501588\n"
     ]
    },
    {
     "data": {
      "image/png": "[encoded data removed]",
      "text/plain": [
       "<Figure size 432x288 with 1 Axes>"
      ]
     },
     "metadata": {
      "needs_background": "light"
     },
     "output_type": "display_data"
    }
   ],
   "source": [
    "x_values = south_hemis[\"Lat\"]\n",
    "y_values = south_hemis[\"Max Temp\"]\n",
    "(slope, intercept, rvalue, pvalue, stderr) = linregress(x_values, y_values)\n",
    "regress_values = x_values * slope + intercept\n",
    "line_eq = \"y = \" + str(round(slope,2)) + \"x + \" + str(round(intercept,2))\n",
    "plt.scatter(x_values,y_values)\n",
    "plt.plot(x_values,regress_values,\"r-\")\n",
    "plt.annotate(line_eq,(-30, 60),fontsize=15,color=\"red\")\n",
    "plt.title(\"Latitudes of the Southern Hemisphere vs. Max Temperature\")\n",
    "plt.xlabel(\"Latitude\")\n",
    "plt.ylabel(\"Max Temperature\")\n",
    "print(f\"The r-squared is: {rvalue**2}\")\n",
    "plt.show()"
   ]
  },
  {
   "cell_type": "markdown",
   "id": "96e6bbc3",
   "metadata": {},
   "source": [
    "####  Northern Hemisphere - Humidity (%) vs. Latitude Linear Regression"
   ]
  },
  {
   "cell_type": "code",
   "execution_count": 48,
   "id": "29237c37",
   "metadata": {},
   "outputs": [
    {
     "name": "stdout",
     "output_type": "stream",
     "text": [
      "The r-squared is: 0.08427655467255904\n"
     ]
    },
    {
     "data": {
      "image/png": "[encoded data removed]",
      "text/plain": [
       "<Figure size 432x288 with 1 Axes>"
      ]
     },
     "metadata": {
      "needs_background": "light"
     },
     "output_type": "display_data"
    }
   ],
   "source": [
    "x_values = north_hemis[\"Lat\"]\n",
    "y_values = north_hemis[\"Humidity\"]\n",
    "(slope, intercept, rvalue, pvalue, stderr) = linregress(x_values, y_values)\n",
    "regress_values = x_values * slope + intercept\n",
    "line_eq = \"y = \" + str(round(slope,2)) + \"x + \" + str(round(intercept,2))\n",
    "plt.scatter(x_values,y_values)\n",
    "plt.plot(x_values,regress_values,\"r-\")\n",
    "plt.annotate(line_eq,(20,20),fontsize=15,color=\"red\")\n",
    "plt.title(\"Latitudes of the Northern Hemisphere vs. Humidity\")\n",
    "plt.xlabel(\"Latitude\")\n",
    "plt.ylabel(\"Humidity\")\n",
    "print(f\"The r-squared is: {rvalue**2}\")\n",
    "plt.show()"
   ]
  },
  {
   "cell_type": "markdown",
   "id": "2f641cbc",
   "metadata": {},
   "source": [
    "####  Southern Hemisphere - Humidity (%) vs. Latitude Linear Regression"
   ]
  },
  {
   "cell_type": "code",
   "execution_count": 50,
   "id": "96ae8e5f",
   "metadata": {},
   "outputs": [
    {
     "name": "stdout",
     "output_type": "stream",
     "text": [
      "The r-squared is: 0.027691961732995703\n"
     ]
    },
    {
     "data": {
      "image/png": "[encoded data removed]",
      "text/plain": [
       "<Figure size 432x288 with 1 Axes>"
      ]
     },
     "metadata": {
      "needs_background": "light"
     },
     "output_type": "display_data"
    }
   ],
   "source": [
    "x_values = south_hemis[\"Lat\"]\n",
    "y_values = south_hemis[\"Humidity\"]\n",
    "(slope, intercept, rvalue, pvalue, stderr) = linregress(x_values, y_values)\n",
    "regress_values = x_values * slope + intercept\n",
    "line_eq = \"y = \" + str(round(slope,2)) + \"x + \" + str(round(intercept,2))\n",
    "plt.scatter(x_values,y_values)\n",
    "plt.plot(x_values,regress_values,\"r-\")\n",
    "plt.annotate(line_eq,(-40,40),fontsize=15,color=\"red\")\n",
    "plt.title(\"Latitudes of the Southern Hemisphere vs. Humidity\")\n",
    "plt.xlabel(\"Latitude\")\n",
    "plt.ylabel(\"Humidity\")\n",
    "print(f\"The r-squared is: {rvalue**2}\")\n",
    "plt.show()"
   ]
  },
  {
   "cell_type": "markdown",
   "id": "a69e240e",
   "metadata": {},
   "source": [
    "####  Northern Hemisphere - Cloudiness (%) vs. Latitude Linear Regression"
   ]
  },
  {
   "cell_type": "code",
   "execution_count": 51,
   "id": "43306461",
   "metadata": {},
   "outputs": [
    {
     "name": "stdout",
     "output_type": "stream",
     "text": [
      "The r-squared is: 0.020793508666964094\n"
     ]
    },
    {
     "data": {
      "image/png": "[encoded data removed]",
      "text/plain": [
       "<Figure size 432x288 with 1 Axes>"
      ]
     },
     "metadata": {
      "needs_background": "light"
     },
     "output_type": "display_data"
    }
   ],
   "source": [
    "x_values = north_hemis[\"Lat\"]\n",
    "y_values = north_hemis[\"Cloudiness\"]\n",
    "(slope, intercept, rvalue, pvalue, stderr) = linregress(x_values, y_values)\n",
    "regress_values = x_values * slope + intercept\n",
    "line_eq = \"y = \" + str(round(slope,2)) + \"x + \" + str(round(intercept,2))\n",
    "plt.scatter(x_values,y_values)\n",
    "plt.plot(x_values,regress_values,\"r-\")\n",
    "plt.annotate(line_eq,(20,20),fontsize=15,color=\"red\")\n",
    "plt.title(\"Latitudes of the Northern Hemisphere vs. Cloudiness\")\n",
    "plt.xlabel(\"Latitude\")\n",
    "plt.ylabel(\"Cloudiness\")\n",
    "print(f\"The r-squared is: {rvalue**2}\")\n",
    "plt.show()"
   ]
  },
  {
   "cell_type": "markdown",
   "id": "30c97e0f",
   "metadata": {},
   "source": [
    "####  Southern Hemisphere - Cloudiness (%) vs. Latitude Linear Regression"
   ]
  },
  {
   "cell_type": "code",
   "execution_count": 55,
   "id": "81b9c59b",
   "metadata": {},
   "outputs": [
    {
     "name": "stdout",
     "output_type": "stream",
     "text": [
      "The r-squared is: 0.031210302568090993\n"
     ]
    },
    {
     "data": {
      "image/png": "[encoded data removed]",
      "text/plain": [
       "<Figure size 432x288 with 1 Axes>"
      ]
     },
     "metadata": {
      "needs_background": "light"
     },
     "output_type": "display_data"
    }
   ],
   "source": [
    "x_values = south_hemis[\"Lat\"]\n",
    "y_values = south_hemis[\"Cloudiness\"]\n",
    "(slope, intercept, rvalue, pvalue, stderr) = linregress(x_values, y_values)\n",
    "regress_values = x_values * slope + intercept\n",
    "line_eq = \"y = \" + str(round(slope,2)) + \"x + \" + str(round(intercept,2))\n",
    "plt.scatter(x_values,y_values)\n",
    "plt.plot(x_values,regress_values,\"r-\")\n",
    "plt.annotate(line_eq,(20,20),fontsize=15,color=\"red\")\n",
    "plt.title(\"Latitudes of the Southern Hemisphere vs. Cloudiness\")\n",
    "plt.xlabel(\"Latitude\")\n",
    "plt.ylabel(\"Cloudiness\")\n",
    "print(f\"The r-squared is: {rvalue**2}\")\n",
    "plt.show()"
   ]
  },
  {
   "cell_type": "markdown",
   "id": "d4e19f31",
   "metadata": {},
   "source": [
    "####  Northern Hemisphere - Wind Speed (mph) vs. Latitude Linear Regression"
   ]
  },
  {
   "cell_type": "code",
   "execution_count": 53,
   "id": "0399e56f",
   "metadata": {},
   "outputs": [
    {
     "name": "stdout",
     "output_type": "stream",
     "text": [
      "The r-squared is: 0.00041857751798916106\n"
     ]
    },
    {
     "data": {
      "image/png": "[encoded data removed]",
      "text/plain": [
       "<Figure size 432x288 with 1 Axes>"
      ]
     },
     "metadata": {
      "needs_background": "light"
     },
     "output_type": "display_data"
    }
   ],
   "source": [
    "x_values = north_hemis[\"Lat\"]\n",
    "y_values = north_hemis[\"Wind Speed\"]\n",
    "(slope, intercept, rvalue, pvalue, stderr) = linregress(x_values, y_values)\n",
    "regress_values = x_values * slope + intercept\n",
    "line_eq = \"y = \" + str(round(slope,2)) + \"x + \" + str(round(intercept,2))\n",
    "plt.scatter(x_values,y_values)\n",
    "plt.plot(x_values,regress_values,\"r-\")\n",
    "plt.annotate(line_eq,(20,20),fontsize=15,color=\"red\")\n",
    "plt.title(\"Latitudes of the Northern Hemisphere vs. Wind Speed\")\n",
    "plt.xlabel(\"Latitude\")\n",
    "plt.ylabel(\"Wind Speed\")\n",
    "print(f\"The r-squared is: {rvalue**2}\")\n",
    "plt.show()"
   ]
  },
  {
   "cell_type": "markdown",
   "id": "c64b4c00",
   "metadata": {},
   "source": [
    "####  Southern Hemisphere - Wind Speed (mph) vs. Latitude Linear Regression"
   ]
  },
  {
   "cell_type": "code",
   "execution_count": 56,
   "id": "87b14185",
   "metadata": {},
   "outputs": [
    {
     "name": "stdout",
     "output_type": "stream",
     "text": [
      "The r-squared is: 0.10841588093411544\n"
     ]
    },
    {
     "data": {
      "image/png": "[encoded data removed]",
      "text/plain": [
       "<Figure size 432x288 with 1 Axes>"
      ]
     },
     "metadata": {
      "needs_background": "light"
     },
     "output_type": "display_data"
    }
   ],
   "source": [
    "x_values = south_hemis[\"Lat\"]\n",
    "y_values = south_hemis[\"Wind Speed\"]\n",
    "(slope, intercept, rvalue, pvalue, stderr) = linregress(x_values, y_values)\n",
    "regress_values = x_values * slope + intercept\n",
    "line_eq = \"y = \" + str(round(slope,2)) + \"x + \" + str(round(intercept,2))\n",
    "plt.scatter(x_values,y_values)\n",
    "plt.plot(x_values,regress_values,\"r-\")\n",
    "plt.annotate(line_eq,(20,20),fontsize=15,color=\"red\")\n",
    "plt.title(\"Latitudes of the Southern Hemisphere vs. Wind Speed\")\n",
    "plt.xlabel(\"Latitude\")\n",
    "plt.ylabel(\"Wind Speed\")\n",
    "print(f\"The r-squared is: {rvalue**2}\")\n",
    "plt.show()"
   ]
  },
  {
   "cell_type": "code",
   "execution_count": null,
   "id": "44d8740e",
   "metadata": {},
   "outputs": [],
   "source": []
  }
 ],
 "metadata": {
  "kernelspec": {
   "display_name": "Python [conda env:PythonData] *",
   "language": "python",
   "name": "conda-env-PythonData-py"
  },
  "language_info": {
   "codemirror_mode": {
    "name": "ipython",
    "version": 3
   },
   "file_extension": ".py",
   "mimetype": "text/x-python",
   "name": "python",
   "nbconvert_exporter": "python",
   "pygments_lexer": "ipython3",
   "version": "3.6.10"
  }
 },
 "nbformat": 4,
 "nbformat_minor": 5
}
