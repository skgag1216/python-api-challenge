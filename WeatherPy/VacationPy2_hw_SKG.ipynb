{
 "cells": [
  {
   "cell_type": "markdown",
   "id": "dd60dd11",
   "metadata": {},
   "source": [
    "# VacationPy\n",
    "----\n",
    "\n",
    "#### Note\n",
    "* Keep an eye on your API usage. Use https://developers.google.com/maps/reporting/gmp-reporting as reference for how to monitor your usage and billing.\n",
    "\n",
    "* Instructions have been included for each segment. You do not have to follow them exactly, but they are included to help you think through the steps."
   ]
  },
  {
   "cell_type": "code",
   "execution_count": 2,
   "id": "5dffe59c",
   "metadata": {},
   "outputs": [],
   "source": [
    "# Dependencies and Setup\n",
    "import matplotlib.pyplot as plt\n",
    "import pandas as pd\n",
    "import numpy as np\n",
    "import requests\n",
    "import gmaps\n",
    "import os\n",
    "\n",
    "# Import API key\n",
    "from api_keys import g_key"
   ]
  },
  {
   "cell_type": "markdown",
   "id": "f030271e",
   "metadata": {},
   "source": [
    "### Store Part I results into DataFrame\n",
    "* Load the csv exported in Part I to a DataFrame"
   ]
  },
  {
   "cell_type": "code",
   "execution_count": 3,
   "id": "6def9fc8",
   "metadata": {},
   "outputs": [],
   "source": [
    "weatherpy_data = pd.read_csv('output_data/my_cities.csv')"
   ]
  },
  {
   "cell_type": "code",
   "execution_count": 4,
   "id": "5d03a475",
   "metadata": {},
   "outputs": [
    {
     "data": {
      "text/html": [
       "<div>\n",
       "<style scoped>\n",
       "    .dataframe tbody tr th:only-of-type {\n",
       "        vertical-align: middle;\n",
       "    }\n",
       "\n",
       "    .dataframe tbody tr th {\n",
       "        vertical-align: top;\n",
       "    }\n",
       "\n",
       "    .dataframe thead th {\n",
       "        text-align: right;\n",
       "    }\n",
       "</style>\n",
       "<table border=\"1\" class=\"dataframe\">\n",
       "  <thead>\n",
       "    <tr style=\"text-align: right;\">\n",
       "      <th></th>\n",
       "      <th>City</th>\n",
       "      <th>Lat</th>\n",
       "      <th>Lng</th>\n",
       "      <th>Max Temp</th>\n",
       "      <th>Humidity</th>\n",
       "      <th>Cloudiness</th>\n",
       "      <th>Wind Speed</th>\n",
       "      <th>Country</th>\n",
       "      <th>Date</th>\n",
       "    </tr>\n",
       "  </thead>\n",
       "  <tbody>\n",
       "    <tr>\n",
       "      <th>0</th>\n",
       "      <td>Ushuaia</td>\n",
       "      <td>-54.8000</td>\n",
       "      <td>-68.3000</td>\n",
       "      <td>46.06</td>\n",
       "      <td>66</td>\n",
       "      <td>75</td>\n",
       "      <td>3.44</td>\n",
       "      <td>AR</td>\n",
       "      <td>1650742629</td>\n",
       "    </tr>\n",
       "    <tr>\n",
       "      <th>1</th>\n",
       "      <td>Arrondissement de Tulle</td>\n",
       "      <td>45.3333</td>\n",
       "      <td>1.8333</td>\n",
       "      <td>44.98</td>\n",
       "      <td>99</td>\n",
       "      <td>100</td>\n",
       "      <td>6.35</td>\n",
       "      <td>FR</td>\n",
       "      <td>1650742639</td>\n",
       "    </tr>\n",
       "    <tr>\n",
       "      <th>2</th>\n",
       "      <td>Port Blair</td>\n",
       "      <td>11.6667</td>\n",
       "      <td>92.7500</td>\n",
       "      <td>80.64</td>\n",
       "      <td>94</td>\n",
       "      <td>20</td>\n",
       "      <td>2.30</td>\n",
       "      <td>IN</td>\n",
       "      <td>1650742640</td>\n",
       "    </tr>\n",
       "    <tr>\n",
       "      <th>3</th>\n",
       "      <td>Iqaluit</td>\n",
       "      <td>63.7506</td>\n",
       "      <td>-68.5145</td>\n",
       "      <td>11.93</td>\n",
       "      <td>72</td>\n",
       "      <td>20</td>\n",
       "      <td>3.44</td>\n",
       "      <td>CA</td>\n",
       "      <td>1650742640</td>\n",
       "    </tr>\n",
       "    <tr>\n",
       "      <th>4</th>\n",
       "      <td>Caravelas</td>\n",
       "      <td>-17.7125</td>\n",
       "      <td>-39.2481</td>\n",
       "      <td>80.19</td>\n",
       "      <td>80</td>\n",
       "      <td>48</td>\n",
       "      <td>8.10</td>\n",
       "      <td>BR</td>\n",
       "      <td>1650742640</td>\n",
       "    </tr>\n",
       "    <tr>\n",
       "      <th>...</th>\n",
       "      <td>...</td>\n",
       "      <td>...</td>\n",
       "      <td>...</td>\n",
       "      <td>...</td>\n",
       "      <td>...</td>\n",
       "      <td>...</td>\n",
       "      <td>...</td>\n",
       "      <td>...</td>\n",
       "      <td>...</td>\n",
       "    </tr>\n",
       "    <tr>\n",
       "      <th>551</th>\n",
       "      <td>Acámbaro</td>\n",
       "      <td>20.0333</td>\n",
       "      <td>-100.7333</td>\n",
       "      <td>85.23</td>\n",
       "      <td>20</td>\n",
       "      <td>55</td>\n",
       "      <td>7.34</td>\n",
       "      <td>MX</td>\n",
       "      <td>1650742836</td>\n",
       "    </tr>\n",
       "    <tr>\n",
       "      <th>552</th>\n",
       "      <td>Natchez</td>\n",
       "      <td>31.5604</td>\n",
       "      <td>-91.4032</td>\n",
       "      <td>81.84</td>\n",
       "      <td>51</td>\n",
       "      <td>40</td>\n",
       "      <td>13.80</td>\n",
       "      <td>US</td>\n",
       "      <td>1650742762</td>\n",
       "    </tr>\n",
       "    <tr>\n",
       "      <th>553</th>\n",
       "      <td>Bubaque</td>\n",
       "      <td>11.2833</td>\n",
       "      <td>-15.8333</td>\n",
       "      <td>77.47</td>\n",
       "      <td>80</td>\n",
       "      <td>4</td>\n",
       "      <td>18.16</td>\n",
       "      <td>GW</td>\n",
       "      <td>1650742837</td>\n",
       "    </tr>\n",
       "    <tr>\n",
       "      <th>554</th>\n",
       "      <td>Krasnoarmiys'k</td>\n",
       "      <td>48.2820</td>\n",
       "      <td>37.1758</td>\n",
       "      <td>52.39</td>\n",
       "      <td>67</td>\n",
       "      <td>100</td>\n",
       "      <td>9.24</td>\n",
       "      <td>UA</td>\n",
       "      <td>1650742548</td>\n",
       "    </tr>\n",
       "    <tr>\n",
       "      <th>555</th>\n",
       "      <td>Dudinka</td>\n",
       "      <td>69.4058</td>\n",
       "      <td>86.1778</td>\n",
       "      <td>-12.69</td>\n",
       "      <td>100</td>\n",
       "      <td>100</td>\n",
       "      <td>2.68</td>\n",
       "      <td>RU</td>\n",
       "      <td>1650742837</td>\n",
       "    </tr>\n",
       "  </tbody>\n",
       "</table>\n",
       "<p>556 rows × 9 columns</p>\n",
       "</div>"
      ],
      "text/plain": [
       "                        City      Lat       Lng  Max Temp  Humidity  \\\n",
       "0                    Ushuaia -54.8000  -68.3000     46.06        66   \n",
       "1    Arrondissement de Tulle  45.3333    1.8333     44.98        99   \n",
       "2                 Port Blair  11.6667   92.7500     80.64        94   \n",
       "3                    Iqaluit  63.7506  -68.5145     11.93        72   \n",
       "4                  Caravelas -17.7125  -39.2481     80.19        80   \n",
       "..                       ...      ...       ...       ...       ...   \n",
       "551                 Acámbaro  20.0333 -100.7333     85.23        20   \n",
       "552                  Natchez  31.5604  -91.4032     81.84        51   \n",
       "553                  Bubaque  11.2833  -15.8333     77.47        80   \n",
       "554           Krasnoarmiys'k  48.2820   37.1758     52.39        67   \n",
       "555                  Dudinka  69.4058   86.1778    -12.69       100   \n",
       "\n",
       "     Cloudiness  Wind Speed Country        Date  \n",
       "0            75        3.44      AR  1650742629  \n",
       "1           100        6.35      FR  1650742639  \n",
       "2            20        2.30      IN  1650742640  \n",
       "3            20        3.44      CA  1650742640  \n",
       "4            48        8.10      BR  1650742640  \n",
       "..          ...         ...     ...         ...  \n",
       "551          55        7.34      MX  1650742836  \n",
       "552          40       13.80      US  1650742762  \n",
       "553           4       18.16      GW  1650742837  \n",
       "554         100        9.24      UA  1650742548  \n",
       "555         100        2.68      RU  1650742837  \n",
       "\n",
       "[556 rows x 9 columns]"
      ]
     },
     "execution_count": 4,
     "metadata": {},
     "output_type": "execute_result"
    }
   ],
   "source": [
    "weatherpy_data"
   ]
  },
  {
   "cell_type": "markdown",
   "id": "9795bb30",
   "metadata": {},
   "source": [
    "### Humidity Heatmap\n",
    "* Configure gmaps.\n",
    "* Use the Lat and Lng as locations and Humidity as the weight.\n",
    "* Add Heatmap layer to map."
   ]
  },
  {
   "cell_type": "code",
   "execution_count": 11,
   "id": "0d75c55b",
   "metadata": {},
   "outputs": [],
   "source": [
    "# Create a list containing coordinates\n",
    "coordinates = weatherpy_data[[\"Lat\", \"Lng\"]].astype(float)\n",
    "humidity = weatherpy_data[\"Humidity\"].astype(float)"
   ]
  },
  {
   "cell_type": "code",
   "execution_count": 12,
   "id": "b994a79f",
   "metadata": {},
   "outputs": [],
   "source": [
    "# Customize the size of the figure\n",
    "figure_layout = {\n",
    "    'width': '1000px',\n",
    "    'height': '800px',\n",
    "    'border': '1px solid black',\n",
    "    'padding': '1px',\n",
    "    'margin': '0 auto 0 auto'\n",
    "}\n",
    "fig = gmaps.figure(layout=figure_layout)"
   ]
  },
  {
   "cell_type": "code",
   "execution_count": 13,
   "id": "869e7518",
   "metadata": {},
   "outputs": [
    {
     "data": {
      "application/vnd.jupyter.widget-view+json": {
       "model_id": "ebc3052ed2944602b40def700a0588e7",
       "version_major": 2,
       "version_minor": 0
      },
      "text/plain": [
       "Figure(layout=FigureLayout(border='1px solid black', height='800px', margin='0 auto 0 auto', padding='1px', wi…"
      ]
     },
     "metadata": {},
     "output_type": "display_data"
    }
   ],
   "source": [
    "# # Assign the marker layer to a variable\n",
    "# markers = gmaps.marker_layer(coordinates)\n",
    "# # Add the layer to the map\n",
    "# fig.add_layer(markers)\n",
    "\n",
    "heat_layer = gmaps.heatmap_layer(coordinates, weights=humidity, \n",
    "                                 dissipating=False, max_intensity=100,\n",
    "                                 point_radius = 1)\n",
    "\n",
    "fig.add_layer(heat_layer)\n",
    "\n",
    "fig"
   ]
  },
  {
   "cell_type": "markdown",
   "id": "25e476ab",
   "metadata": {},
   "source": [
    "### Create new DataFrame fitting weather criteria\n",
    "* Narrow down the cities to fit weather conditions.\n",
    "* Drop any rows will null values."
   ]
  },
  {
   "cell_type": "code",
   "execution_count": null,
   "id": "3dd9b8fa",
   "metadata": {},
   "outputs": [],
   "source": []
  },
  {
   "cell_type": "markdown",
   "id": "50602464",
   "metadata": {},
   "source": [
    "### Hotel Map\n",
    "* Store into variable named `hotel_df`.\n",
    "* Add a \"Hotel Name\" column to the DataFrame.\n",
    "* Set parameters to search for hotels with 5000 meters.\n",
    "* Hit the Google Places API for each city's coordinates.\n",
    "* Store the first Hotel result into the DataFrame.\n",
    "* Plot markers on top of the heatmap."
   ]
  },
  {
   "cell_type": "code",
   "execution_count": null,
   "id": "01710f2e",
   "metadata": {},
   "outputs": [],
   "source": []
  },
  {
   "cell_type": "code",
   "execution_count": null,
   "id": "837c5db6",
   "metadata": {},
   "outputs": [],
   "source": []
  },
  {
   "cell_type": "code",
   "execution_count": null,
   "id": "6166e681",
   "metadata": {},
   "outputs": [],
   "source": [
    "# NOTE: Do not change any of the code in this cell\n",
    "\n",
    "# Using the template add the hotel marks to the heatmap\n",
    "info_box_template = \"\"\"\n",
    "<dl>\n",
    "<dt>Name</dt><dd>{Hotel Name}</dd>\n",
    "<dt>City</dt><dd>{City}</dd>\n",
    "<dt>Country</dt><dd>{Country}</dd>\n",
    "</dl>\n",
    "\"\"\"\n",
    "# Store the DataFrame Row\n",
    "# NOTE: be sure to update with your DataFrame name\n",
    "hotel_info = [info_box_template.format(**row) for index, row in hotel_df.iterrows()]\n",
    "locations = hotel_df[[\"Lat\", \"Lng\"]]"
   ]
  },
  {
   "cell_type": "code",
   "execution_count": null,
   "id": "3171da1a",
   "metadata": {},
   "outputs": [],
   "source": [
    "# Add marker layer ontop of heat map\n",
    "\n",
    "\n",
    "# Display figure"
   ]
  },
  {
   "cell_type": "code",
   "execution_count": null,
   "id": "52faf9f3",
   "metadata": {},
   "outputs": [],
   "source": []
  }
 ],
 "metadata": {
  "kernelspec": {
   "display_name": "Python [conda env:PythonData] *",
   "language": "python",
   "name": "conda-env-PythonData-py"
  },
  "language_info": {
   "codemirror_mode": {
    "name": "ipython",
    "version": 3
   },
   "file_extension": ".py",
   "mimetype": "text/x-python",
   "name": "python",
   "nbconvert_exporter": "python",
   "pygments_lexer": "ipython3",
   "version": "3.6.10"
  }
 },
 "nbformat": 4,
 "nbformat_minor": 5
}
